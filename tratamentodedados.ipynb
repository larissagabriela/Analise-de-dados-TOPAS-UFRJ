{
 "cells": [
  {
   "cell_type": "markdown",
   "id": "7eea5c36",
   "metadata": {},
   "source": [
    "#### Importando as bibliotecas necessárias"
   ]
  },
  {
   "cell_type": "code",
   "execution_count": 35,
   "id": "97c83812",
   "metadata": {},
   "outputs": [],
   "source": [
    "import pandas as pd\n",
    "import numpy as np\n",
    "import matplotlib.pyplot as plt"
   ]
  },
  {
   "cell_type": "markdown",
   "id": "b7738840",
   "metadata": {},
   "source": [
    "#### Carregando o dataset"
   ]
  },
  {
   "cell_type": "code",
   "execution_count": 36,
   "id": "6b681794",
   "metadata": {},
   "outputs": [],
   "source": [
    "df = pd.read_csv('DoseMaterialCortical2x2.csv',  sep = ';')"
   ]
  },
  {
   "cell_type": "code",
   "execution_count": 37,
   "id": "b3329d88",
   "metadata": {},
   "outputs": [],
   "source": [
    "df2 = pd.read_csv('15MV_DoseMaterialCortical5x5.csv',  sep = ';')"
   ]
  },
  {
   "cell_type": "code",
   "execution_count": 38,
   "id": "eb4c7103",
   "metadata": {},
   "outputs": [],
   "source": [
    "df3 = pd.read_csv('15MV_DoseMaterialCortical10x10.csv',  sep = ';')"
   ]
  },
  {
   "cell_type": "markdown",
   "id": "a717082f",
   "metadata": {},
   "source": [
    "#### Tratando os dados, separando uma única coluna '# TOPAS Version: 3.7' em quatro: 'x', 'y', 'z' e 'Dose'"
   ]
  },
  {
   "cell_type": "code",
   "execution_count": 39,
   "id": "9fcaddcb",
   "metadata": {
    "scrolled": true
   },
   "outputs": [
    {
     "name": "stderr",
     "output_type": "stream",
     "text": [
      "C:\\Users\\Larissa\\AppData\\Local\\Temp/ipykernel_16616/4088738462.py:1: FutureWarning: Columnar iteration over characters will be deprecated in future releases.\n",
      "  df['x'], df['y'], df['z'], df['Dose'] = df['# TOPAS Version: 3.7'].str.split(',', 4).str\n"
     ]
    }
   ],
   "source": [
    "df['x'], df['y'], df['z'], df['Dose'] = df['# TOPAS Version: 3.7'].str.split(',', 4).str\n",
    "del df['# TOPAS Version: 3.7']"
   ]
  },
  {
   "cell_type": "code",
   "execution_count": 40,
   "id": "36c05f80",
   "metadata": {},
   "outputs": [
    {
     "name": "stderr",
     "output_type": "stream",
     "text": [
      "C:\\Users\\Larissa\\AppData\\Local\\Temp/ipykernel_16616/1975224425.py:1: FutureWarning: Columnar iteration over characters will be deprecated in future releases.\n",
      "  df2['x'], df2['y'], df2['z'], df2['Dose'] = df2['# TOPAS Version: 3.7'].str.split(',', 4).str\n"
     ]
    }
   ],
   "source": [
    "df2['x'], df2['y'], df2['z'], df2['Dose'] = df2['# TOPAS Version: 3.7'].str.split(',', 4).str\n",
    "del df2['# TOPAS Version: 3.7']"
   ]
  },
  {
   "cell_type": "code",
   "execution_count": 41,
   "id": "f977d2fc",
   "metadata": {},
   "outputs": [
    {
     "name": "stderr",
     "output_type": "stream",
     "text": [
      "C:\\Users\\Larissa\\AppData\\Local\\Temp/ipykernel_16616/3174952459.py:1: FutureWarning: Columnar iteration over characters will be deprecated in future releases.\n",
      "  df3['x'], df3['y'], df3['z'], df3['Dose'] = df3['# TOPAS Version: 3.7'].str.split(',', 4).str\n"
     ]
    }
   ],
   "source": [
    "df3['x'], df3['y'], df3['z'], df3['Dose'] = df3['# TOPAS Version: 3.7'].str.split(',', 4).str\n",
    "del df3['# TOPAS Version: 3.7']"
   ]
  },
  {
   "cell_type": "markdown",
   "id": "8539b03a",
   "metadata": {},
   "source": [
    "#### Deixando claro as informações sobre os bins"
   ]
  },
  {
   "cell_type": "code",
   "execution_count": 27,
   "id": "b46a328b",
   "metadata": {
    "scrolled": false
   },
   "outputs": [
    {
     "name": "stdout",
     "output_type": "stream",
     "text": [
      "# X in 30 bins of 0.5 cm\n",
      "# Y in 30 bins of 0.5 cm\n",
      "# Z in 130 bins of 0.1 cm\n"
     ]
    }
   ],
   "source": [
    "print(df['x'][3])\n",
    "print(df['x'][4])\n",
    "print(df['x'][5])"
   ]
  },
  {
   "cell_type": "markdown",
   "id": "53d073d0",
   "metadata": {},
   "source": [
    "#### Removendo as primeiras linhas que não contêm dado numérico"
   ]
  },
  {
   "cell_type": "code",
   "execution_count": 42,
   "id": "4902ec21",
   "metadata": {},
   "outputs": [],
   "source": [
    "df = df.iloc[7:]"
   ]
  },
  {
   "cell_type": "code",
   "execution_count": 43,
   "id": "9d1da213",
   "metadata": {},
   "outputs": [],
   "source": [
    "df2 = df2.iloc[7:]"
   ]
  },
  {
   "cell_type": "code",
   "execution_count": 44,
   "id": "4c8745c7",
   "metadata": {},
   "outputs": [],
   "source": [
    "df3 = df3.iloc[7:]"
   ]
  },
  {
   "cell_type": "markdown",
   "id": "5a198b68",
   "metadata": {},
   "source": [
    "#### Transformando os dados de cada coluna em números"
   ]
  },
  {
   "cell_type": "code",
   "execution_count": 45,
   "id": "08c8f71a",
   "metadata": {},
   "outputs": [],
   "source": [
    "df['x'] = df['x'].astype(int)\n",
    "df['y'] = df['y'].astype(int)\n",
    "df['z'] = df['z'].astype(int)\n",
    "df['Dose'] = df['Dose'].astype(float)"
   ]
  },
  {
   "cell_type": "code",
   "execution_count": 46,
   "id": "d4973ce3",
   "metadata": {},
   "outputs": [],
   "source": [
    "df2['x'] = df2['x'].astype(int)\n",
    "df2['y'] = df2['y'].astype(int)\n",
    "df2['z'] = df2['z'].astype(int)\n",
    "df2['Dose'] = df2['Dose'].astype(float)"
   ]
  },
  {
   "cell_type": "code",
   "execution_count": 47,
   "id": "f0f13cff",
   "metadata": {},
   "outputs": [],
   "source": [
    "df3['x'] = df3['x'].astype(int)\n",
    "df3['y'] = df3['y'].astype(int)\n",
    "df3['z'] = df3['z'].astype(int)\n",
    "df3['Dose'] = df3['Dose'].astype(float)"
   ]
  },
  {
   "cell_type": "markdown",
   "id": "57c8fcb9",
   "metadata": {},
   "source": [
    "#### Normalizando a dose"
   ]
  },
  {
   "cell_type": "code",
   "execution_count": 48,
   "id": "4f73037d",
   "metadata": {
    "scrolled": true
   },
   "outputs": [],
   "source": [
    "df['Dose'] = df['Dose'] / df['Dose'].max()"
   ]
  },
  {
   "cell_type": "code",
   "execution_count": 49,
   "id": "eb4a2b47",
   "metadata": {},
   "outputs": [],
   "source": [
    "df2['Dose'] = df2['Dose'] / df2['Dose'].max()"
   ]
  },
  {
   "cell_type": "code",
   "execution_count": 50,
   "id": "62589792",
   "metadata": {},
   "outputs": [],
   "source": [
    "df3['Dose'] = df3['Dose'] / df3['Dose'].max()"
   ]
  },
  {
   "cell_type": "markdown",
   "id": "0aca66ec",
   "metadata": {},
   "source": [
    "#### Encontrando a mediana de acordo com o número de bins"
   ]
  },
  {
   "cell_type": "code",
   "execution_count": 51,
   "id": "7beed547",
   "metadata": {},
   "outputs": [],
   "source": [
    "mediana = int(df['x'].median()) "
   ]
  },
  {
   "cell_type": "code",
   "execution_count": 52,
   "id": "76497d5e",
   "metadata": {},
   "outputs": [],
   "source": [
    "mediana2 = int(df2['x'].median()) "
   ]
  },
  {
   "cell_type": "code",
   "execution_count": 53,
   "id": "a0dc6587",
   "metadata": {},
   "outputs": [],
   "source": [
    "mediana3 = int(df3['x'].median()) "
   ]
  },
  {
   "cell_type": "markdown",
   "id": "7af903bc",
   "metadata": {},
   "source": [
    "#### Selecionando apenas as linhas com valores de 'x' e 'y' iguais a mediana"
   ]
  },
  {
   "cell_type": "code",
   "execution_count": 54,
   "id": "95dd6ccb",
   "metadata": {},
   "outputs": [],
   "source": [
    "novodf = df.loc[df['x'] == mediana]"
   ]
  },
  {
   "cell_type": "code",
   "execution_count": 55,
   "id": "ba296e44",
   "metadata": {},
   "outputs": [],
   "source": [
    "novodf2 = df.loc[df2['x'] == mediana2]"
   ]
  },
  {
   "cell_type": "code",
   "execution_count": 56,
   "id": "1f840952",
   "metadata": {},
   "outputs": [],
   "source": [
    "novodf3 = df.loc[df3['x'] == mediana3]"
   ]
  },
  {
   "cell_type": "code",
   "execution_count": 57,
   "id": "5a31b2f4",
   "metadata": {},
   "outputs": [],
   "source": [
    "novodf2 = novodf.loc[novodf['y'] == mediana]"
   ]
  },
  {
   "cell_type": "code",
   "execution_count": 59,
   "id": "aca7efc5",
   "metadata": {},
   "outputs": [],
   "source": [
    "novodf22 = novodf2.loc[novodf2['y'] == mediana2]"
   ]
  },
  {
   "cell_type": "code",
   "execution_count": 60,
   "id": "ab622889",
   "metadata": {},
   "outputs": [],
   "source": [
    "novodf23 = novodf3.loc[novodf3['y'] == mediana3]"
   ]
  },
  {
   "cell_type": "markdown",
   "id": "690cd81f",
   "metadata": {},
   "source": [
    "#### Construindo o gráfico"
   ]
  },
  {
   "cell_type": "markdown",
   "id": "91443e9a",
   "metadata": {},
   "source": [
    "* Input para o usuário entrar com os nomes dos eixos e o título do gráfico"
   ]
  },
  {
   "cell_type": "code",
   "execution_count": 11,
   "id": "2dea5967",
   "metadata": {},
   "outputs": [
    {
     "name": "stdout",
     "output_type": "stream",
     "text": [
      "Título do gráfico: a\n",
      "Nome do eixo x: a\n",
      "Nome do eixo y: a\n"
     ]
    }
   ],
   "source": [
    "titulo = input(\"Título do gráfico: \")\n",
    "eixox  = input(\"Nome do eixo x: \")\n",
    "eixoy  = input(\"Nome do eixo y: \")"
   ]
  },
  {
   "cell_type": "code",
   "execution_count": 65,
   "id": "42e7c199",
   "metadata": {},
   "outputs": [
    {
     "data": {
      "image/png": "[encoded data removed]",
      "text/plain": [
       "<Figure size 432x288 with 1 Axes>"
      ]
     },
     "metadata": {
      "needs_background": "light"
     },
     "output_type": "display_data"
    }
   ],
   "source": [
    "plt.plot(novodf2['z'], novodf2['Dose'], color = 'blue')\n",
    "plt.plot(novodf22['z'], novodf22['Dose'], color = 'red')\n",
    "plt.plot(novodf23['z'], novodf23['Dose'], color = 'green')\n",
    "plt.xlabel('Tempo(minuto)', fontsize=15)\n",
    "plt.ylabel('Temperatura °C', fontsize=15)\n",
    "plt.show()"
   ]
  },
  {
   "cell_type": "code",
   "execution_count": null,
   "id": "afbb50af",
   "metadata": {},
   "outputs": [],
   "source": []
  }
 ],
 "metadata": {
  "kernelspec": {
   "display_name": "Python 3 (ipykernel)",
   "language": "python",
   "name": "python3"
  },
  "language_info": {
   "codemirror_mode": {
    "name": "ipython",
    "version": 3
   },
   "file_extension": ".py",
   "mimetype": "text/x-python",
   "name": "python",
   "nbconvert_exporter": "python",
   "pygments_lexer": "ipython3",
   "version": "3.9.7"
  }
 },
 "nbformat": 4,
 "nbformat_minor": 5
}
