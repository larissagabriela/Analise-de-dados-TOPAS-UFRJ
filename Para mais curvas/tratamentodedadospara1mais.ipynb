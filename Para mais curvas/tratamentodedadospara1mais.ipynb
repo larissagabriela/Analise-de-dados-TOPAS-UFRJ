{
 "cells": [
  {
   "cell_type": "markdown",
   "id": "c4f41509",
   "metadata": {},
   "source": [
    "### Importando as bibliotecas necessárias\n",
    "\n",
    "###### Pandas\n",
    "\n",
    "É uma biblioteca de software criada para a linguagem Python para manipulação e análise de dados. Oferece estruturas e operações para manipular tabelas numéricas e séries temporais.\n",
    "\n",
    "###### Matplotlib\n",
    "\n",
    "É uma biblioteca de software para criação de gráficos e visualizações de dados em geral, feita para e da linguagem de programação Python."
   ]
  },
  {
   "cell_type": "code",
   "execution_count": 1,
   "id": "04609d54",
   "metadata": {},
   "outputs": [],
   "source": [
    "import pandas as pd\n",
    "import matplotlib.pyplot as plt"
   ]
  },
  {
   "cell_type": "markdown",
   "id": "e4259c11",
   "metadata": {},
   "source": [
    "### Outputs\n",
    "\n",
    "Precisamos armazenar nossos outputs. Como vamos lidar com diversos arquivos outputs, armazená-los em listas vai auxiliar a trabalhar com os dados. Além disso, no momento de plotar o gráfico, precisamos diferenciar as curvas com diferentes legendas. Por isso, vamos pedir as diferentes legendas logo após o output ser fornecido. "
   ]
  },
  {
   "cell_type": "code",
   "execution_count": 2,
   "id": "28cda60b",
   "metadata": {
    "scrolled": false
   },
   "outputs": [
    {
     "name": "stdout",
     "output_type": "stream",
     "text": [
      "Qual o número de curvas? 3\n",
      "Título do gráfico: Fótons | 10x10 cm²\n",
      "Qual o nome do output? fotons/6MV.csv\n",
      "Qual a legenda para o output anterior? 6MV\n",
      "Qual o nome do output? fotons/10MV.csv\n",
      "Qual a legenda para o output anterior? 10MV\n",
      "Qual o nome do output? fotons/15MV.csv\n",
      "Qual a legenda para o output anterior? 15MV\n"
     ]
    }
   ],
   "source": [
    "numero_curvas = int(input(\"Qual o número de curvas? \"))\n",
    "titulo = input(\"Título do gráfico: \")\n",
    "list_output = list()\n",
    "list_legend = list()\n",
    "while numero_curvas != 0:\n",
    "    output = input(\"Qual o nome do output? \")\n",
    "    legenda = input(\"Qual a legenda para o output anterior? \")\n",
    "    list_output.append(output)\n",
    "    list_legend.append(legenda)\n",
    "    numero_curvas -= 1"
   ]
  },
  {
   "cell_type": "markdown",
   "id": "d5027796",
   "metadata": {},
   "source": [
    "### Partícula\n",
    "\n",
    "Para contruírmos o gráfico da forma mais legível é interessante tratarmos de forma diferente fótons e elétrons. Vamos deferenciar, por exemplo, quando limitamos os valores do eixo x."
   ]
  },
  {
   "cell_type": "code",
   "execution_count": 4,
   "id": "1568553a",
   "metadata": {},
   "outputs": [
    {
     "name": "stdout",
     "output_type": "stream",
     "text": [
      "Digite f para fótons. Digite e para elétrons: f\n"
     ]
    }
   ],
   "source": [
    "particula = input('Digite f para fótons. Digite e para elétrons: ')"
   ]
  },
  {
   "cell_type": "markdown",
   "id": "c62ce28d",
   "metadata": {},
   "source": [
    "### Tratando os dados do output"
   ]
  },
  {
   "cell_type": "code",
   "execution_count": 5,
   "id": "6a64e806",
   "metadata": {},
   "outputs": [],
   "source": [
    "def output():                \n",
    "    df = pd.read_csv(nome_output,  sep = ';')  \n",
    "    df['x'], df['y'], df['z'], df['Dose'] = df['# TOPAS Version: 3.7'].str.split(',', 4).str\n",
    "    del df['# TOPAS Version: 3.7']\n",
    "\n",
    "    df = df.iloc[7:]                           #Removendo as primeiras linhas que não contêm dado numérico\n",
    "\n",
    "    df['x'] = df['x'].astype(int)              #Transfromando bins e dose em números\n",
    "    df['y'] = df['y'].astype(int)\n",
    "    df['z'] = df['z'].astype(int)\n",
    "    df['Dose'] = df['Dose'].astype(float)\n",
    "\n",
    "    return df"
   ]
  },
  {
   "cell_type": "markdown",
   "id": "d9252e12",
   "metadata": {},
   "source": [
    "### Normalizando a dose"
   ]
  },
  {
   "cell_type": "code",
   "execution_count": 6,
   "id": "969a722b",
   "metadata": {},
   "outputs": [],
   "source": [
    "def normaliza():        \n",
    "    df['Dose'] = df['Dose'] / df['Dose'].max() #Normalizando a dose\n",
    "\n",
    "    return df"
   ]
  },
  {
   "cell_type": "markdown",
   "id": "ff2b2463",
   "metadata": {},
   "source": [
    "### Encontrando a mediana de acordo com o número de bins"
   ]
  },
  {
   "cell_type": "code",
   "execution_count": 7,
   "id": "d3f5c922",
   "metadata": {},
   "outputs": [],
   "source": [
    "def bins():\n",
    "    if (int(df['x'].median())/2 == 0):         #Encontrando a mediana\n",
    "        mediana = int(df['x'].median())\n",
    "    else:\n",
    "        mediana = int(df['x'].median()) + 1 \n",
    "\n",
    "    return mediana"
   ]
  },
  {
   "cell_type": "markdown",
   "id": "aefad6ae",
   "metadata": {},
   "source": [
    "### Selecionando apenas as linhas com valores de 'x' e 'y' iguais a mediana"
   ]
  },
  {
   "cell_type": "code",
   "execution_count": 8,
   "id": "9f699fae",
   "metadata": {},
   "outputs": [],
   "source": [
    "def dataframe():        \n",
    "    novodf = df.loc[df['x'] == mediana]\n",
    "    novodf2 = novodf.loc[novodf['y'] == mediana]\n",
    "\n",
    "    return novodf2"
   ]
  },
  {
   "cell_type": "markdown",
   "id": "4c7d6eaa",
   "metadata": {},
   "source": [
    "### Contruindo o gráfico"
   ]
  },
  {
   "cell_type": "code",
   "execution_count": 9,
   "id": "bca0a768",
   "metadata": {},
   "outputs": [],
   "source": [
    "cores = ['r', 'g', 'b', 'c', 'm', 'y', 'k']"
   ]
  },
  {
   "cell_type": "code",
   "execution_count": 10,
   "id": "8f00fac7",
   "metadata": {},
   "outputs": [
    {
     "name": "stderr",
     "output_type": "stream",
     "text": [
      "C:\\Users\\Larissa\\AppData\\Local\\Temp/ipykernel_17532/3087516353.py:3: FutureWarning: Columnar iteration over characters will be deprecated in future releases.\n",
      "  df['x'], df['y'], df['z'], df['Dose'] = df['# TOPAS Version: 3.7'].str.split(',', 4).str\n",
      "C:\\Users\\Larissa\\AppData\\Local\\Temp/ipykernel_17532/3087516353.py:3: FutureWarning: Columnar iteration over characters will be deprecated in future releases.\n",
      "  df['x'], df['y'], df['z'], df['Dose'] = df['# TOPAS Version: 3.7'].str.split(',', 4).str\n",
      "C:\\Users\\Larissa\\AppData\\Local\\Temp/ipykernel_17532/3087516353.py:3: FutureWarning: Columnar iteration over characters will be deprecated in future releases.\n",
      "  df['x'], df['y'], df['z'], df['Dose'] = df['# TOPAS Version: 3.7'].str.split(',', 4).str\n"
     ]
    },
    {
     "data": {
      "image/png": "[encoded data removed]",
      "text/plain": [
       "<Figure size 432x288 with 1 Axes>"
      ]
     },
     "metadata": {
      "needs_background": "light"
     },
     "output_type": "display_data"
    }
   ],
   "source": [
    "legenda = 0\n",
    "for nome_output in list_output:\n",
    "    df = output()\n",
    "    df = normaliza()\n",
    "    mediana = bins()\n",
    "    novodf2 = dataframe()\n",
    "    if particula == 'f':\n",
    "        plt.plot(novodf2['z']/(10/3), novodf2['Dose'], color = cores[legenda], label = list_legend[legenda]) \n",
    "    if particula == 'e':\n",
    "        plt.plot(novodf2['z']/10, novodf2['Dose'], color = cores[legenda], label = list_legend[legenda])\n",
    "    legenda += 1\n",
    "    \n",
    "plt.title(titulo, fontsize=11)\n",
    "plt.xlabel('Profundidade (cm)', fontsize=11)\n",
    "plt.ylabel('PDP', fontsize=11)\n",
    "if particula == 'f':\n",
    "    plt.xlim(0,30)\n",
    "if particula == 'e':\n",
    "    plt.xlim(0,14)\n",
    "plt.ylim(0,1.1)\n",
    "plt.legend()\n",
    "plt.grid()\n",
    "plt.show()"
   ]
  },
  {
   "cell_type": "code",
   "execution_count": null,
   "id": "cca70a7d",
   "metadata": {},
   "outputs": [],
   "source": []
  }
 ],
 "metadata": {
  "kernelspec": {
   "display_name": "Python 3 (ipykernel)",
   "language": "python",
   "name": "python3"
  },
  "language_info": {
   "codemirror_mode": {
    "name": "ipython",
    "version": 3
   },
   "file_extension": ".py",
   "mimetype": "text/x-python",
   "name": "python",
   "nbconvert_exporter": "python",
   "pygments_lexer": "ipython3",
   "version": "3.9.7"
  }
 },
 "nbformat": 4,
 "nbformat_minor": 5
}
