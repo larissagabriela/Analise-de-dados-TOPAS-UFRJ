{
 "cells": [
  {
   "cell_type": "markdown",
   "id": "c4f41509",
   "metadata": {},
   "source": [
    "### Importando as bibliotecas necessárias\n",
    "\n",
    "###### Pandas\n",
    "\n",
    "É uma biblioteca de software criada para a linguagem Python para manipulação e análise de dados. Oferece estruturas e operações para manipular tabelas numéricas e séries temporais.\n",
    "\n",
    "###### Matplotlib\n",
    "\n",
    "É uma biblioteca de software para criação de gráficos e visualizações de dados em geral, feita para e da linguagem de programação Python."
   ]
  },
  {
   "cell_type": "code",
   "execution_count": 12,
   "id": "04609d54",
   "metadata": {},
   "outputs": [],
   "source": [
    "import pandas as pd\n",
    "import matplotlib.pyplot as plt"
   ]
  },
  {
   "cell_type": "markdown",
   "id": "e4259c11",
   "metadata": {},
   "source": [
    "### Outputs\n",
    "\n",
    "Precisamos armazenar nossos outputs. Como vamos lidar com diversos arquivos outputs, armazená-los em listas vai auxiliar a trabalhar com os dados. Além disso, no momento de plotar o gráfico, precisamos diferenciar as curvas com diferentes legendas. Por isso, vamos pedir as diferentes legendas logo após o output ser fornecido. "
   ]
  },
  {
   "cell_type": "code",
   "execution_count": 13,
   "id": "e6acfe5e",
   "metadata": {},
   "outputs": [
    {
     "name": "stdout",
     "output_type": "stream",
     "text": [
      "Qual o número de curvas? 6\n",
      "Título do gráfico: Elétrons | 10x10 cm²\n",
      "Qual o nome do output? eletrons/6MeV.csv\n",
      "Qual a legenda para o output anterior? 6MeV\n",
      "Qual o nome do output? eletrons/9MeV.csv\n",
      "Qual a legenda para o output anterior? 9MeV\n",
      "Qual o nome do output? eletrons/12MeV.csv\n",
      "Qual a legenda para o output anterior? 12MeV\n",
      "Qual o nome do output? eletrons/16MeV.csv\n",
      "Qual a legenda para o output anterior? 16MeV\n",
      "Qual o nome do output? eletrons/20MeV.csv\n",
      "Qual a legenda para o output anterior? 20MeV\n",
      "Qual o nome do output? eletrons/24MeV.csv\n",
      "Qual a legenda para o output anterior? 24MeV\n"
     ]
    }
   ],
   "source": [
    "numero_curvas = int(input(\"Qual o número de curvas? \"))\n",
    "titulo = input(\"Título do gráfico: \")\n",
    "list_output = list()\n",
    "list_legend = list()\n",
    "while numero_curvas != 0:\n",
    "    output = input(\"Qual o nome do output? \")\n",
    "    legenda = input(\"Qual a legenda para o output anterior? \")\n",
    "    list_output.append(output)\n",
    "    list_legend.append(legenda)\n",
    "    numero_curvas -= 1"
   ]
  },
  {
   "cell_type": "markdown",
   "id": "ad207378",
   "metadata": {},
   "source": [
    "### Partícula\n",
    "\n",
    "Para contruírmos o gráfico da forma mais legível é interessante tratarmos de forma diferente fótons e elétrons. Vamos deferenciar, por exemplo, quando limitamos os valores do eixo x."
   ]
  },
  {
   "cell_type": "code",
   "execution_count": 14,
   "id": "2b2c5b00",
   "metadata": {},
   "outputs": [
    {
     "name": "stdout",
     "output_type": "stream",
     "text": [
      "Digite f para fótons. Digite e para elétrons: e\n"
     ]
    }
   ],
   "source": [
    "particula = input('Digite f para fótons. Digite e para elétrons: ')"
   ]
  },
  {
   "cell_type": "markdown",
   "id": "c62ce28d",
   "metadata": {},
   "source": [
    "### Tratando os dados do output"
   ]
  },
  {
   "cell_type": "code",
   "execution_count": 15,
   "id": "704eb85b",
   "metadata": {},
   "outputs": [],
   "source": [
    "def output():                \n",
    "    df = pd.read_csv(nome_output,  sep = ';')  \n",
    "    df['x'], df['y'], df['z'], df['Dose'] = df['# TOPAS Version: 3.7'].str.split(',', 4).str\n",
    "    del df['# TOPAS Version: 3.7']\n",
    "\n",
    "    df = df.iloc[7:]                           #Removendo as primeiras linhas que não contêm dado numérico\n",
    "\n",
    "    df['x'] = df['x'].astype(int)              #Transfromando bins e dose em números\n",
    "    df['y'] = df['y'].astype(int)\n",
    "    df['z'] = df['z'].astype(int)\n",
    "    df['Dose'] = df['Dose'].astype(float)\n",
    "\n",
    "    return df"
   ]
  },
  {
   "cell_type": "markdown",
   "id": "baf8259d",
   "metadata": {},
   "source": [
    "### Normalizando a dose"
   ]
  },
  {
   "cell_type": "code",
   "execution_count": 16,
   "id": "0dd6b5e4",
   "metadata": {},
   "outputs": [],
   "source": [
    "def normaliza():        \n",
    "    df['Dose'] = df['Dose'] / df['Dose'].max() #Normalizando a dose\n",
    "\n",
    "    return df"
   ]
  },
  {
   "cell_type": "markdown",
   "id": "38b52716",
   "metadata": {},
   "source": [
    "### Encontrando a mediana de acordo com o número de bins"
   ]
  },
  {
   "cell_type": "code",
   "execution_count": 17,
   "id": "09b244c4",
   "metadata": {},
   "outputs": [],
   "source": [
    "def bins():\n",
    "    if (int(df['x'].median())/2 == 0):         #Encontrando a mediana\n",
    "        mediana = int(df['x'].median())\n",
    "    else:\n",
    "        mediana = int(df['x'].median()) + 1 \n",
    "\n",
    "    return mediana"
   ]
  },
  {
   "cell_type": "markdown",
   "id": "960aa802",
   "metadata": {},
   "source": [
    "### Selecionando apenas as linhas com valores de 'x' e 'y' iguais a mediana"
   ]
  },
  {
   "cell_type": "code",
   "execution_count": 18,
   "id": "5db4df8b",
   "metadata": {},
   "outputs": [],
   "source": [
    "def dataframe():        \n",
    "    novodf = df.loc[df['x'] == mediana]\n",
    "    novodf2 = novodf.loc[novodf['y'] == mediana]\n",
    "\n",
    "    return novodf2"
   ]
  },
  {
   "cell_type": "markdown",
   "id": "1eee6399",
   "metadata": {},
   "source": [
    "### Contruindo o gráfico"
   ]
  },
  {
   "cell_type": "code",
   "execution_count": 19,
   "id": "3fed8237",
   "metadata": {},
   "outputs": [],
   "source": [
    "cores = ['r', 'g', 'b', 'c', 'm', 'y', 'k']"
   ]
  },
  {
   "cell_type": "code",
   "execution_count": 20,
   "id": "d4957956",
   "metadata": {},
   "outputs": [
    {
     "data": {
      "text/plain": [
       "['eletrons/6MeV.csv',\n",
       " 'eletrons/9MeV.csv',\n",
       " 'eletrons/12MeV.csv',\n",
       " 'eletrons/16MeV.csv',\n",
       " 'eletrons/20MeV.csv',\n",
       " 'eletrons/24MeV.csv']"
      ]
     },
     "execution_count": 20,
     "metadata": {},
     "output_type": "execute_result"
    }
   ],
   "source": [
    "list_output"
   ]
  },
  {
   "cell_type": "code",
   "execution_count": 21,
   "id": "a412c989",
   "metadata": {},
   "outputs": [
    {
     "name": "stderr",
     "output_type": "stream",
     "text": [
      "C:\\Users\\Larissa\\AppData\\Local\\Temp/ipykernel_9212/3087516353.py:3: FutureWarning: Columnar iteration over characters will be deprecated in future releases.\n",
      "  df['x'], df['y'], df['z'], df['Dose'] = df['# TOPAS Version: 3.7'].str.split(',', 4).str\n",
      "C:\\Users\\Larissa\\AppData\\Local\\Temp/ipykernel_9212/3087516353.py:3: FutureWarning: Columnar iteration over characters will be deprecated in future releases.\n",
      "  df['x'], df['y'], df['z'], df['Dose'] = df['# TOPAS Version: 3.7'].str.split(',', 4).str\n",
      "C:\\Users\\Larissa\\AppData\\Local\\Temp/ipykernel_9212/3087516353.py:3: FutureWarning: Columnar iteration over characters will be deprecated in future releases.\n",
      "  df['x'], df['y'], df['z'], df['Dose'] = df['# TOPAS Version: 3.7'].str.split(',', 4).str\n",
      "C:\\Users\\Larissa\\AppData\\Local\\Temp/ipykernel_9212/3087516353.py:3: FutureWarning: Columnar iteration over characters will be deprecated in future releases.\n",
      "  df['x'], df['y'], df['z'], df['Dose'] = df['# TOPAS Version: 3.7'].str.split(',', 4).str\n",
      "C:\\Users\\Larissa\\AppData\\Local\\Temp/ipykernel_9212/3087516353.py:3: FutureWarning: Columnar iteration over characters will be deprecated in future releases.\n",
      "  df['x'], df['y'], df['z'], df['Dose'] = df['# TOPAS Version: 3.7'].str.split(',', 4).str\n",
      "C:\\Users\\Larissa\\AppData\\Local\\Temp/ipykernel_9212/3087516353.py:3: FutureWarning: Columnar iteration over characters will be deprecated in future releases.\n",
      "  df['x'], df['y'], df['z'], df['Dose'] = df['# TOPAS Version: 3.7'].str.split(',', 4).str\n"
     ]
    },
    {
     "data": {
      "image/png": "[encoded data removed]",
      "text/plain": [
       "<Figure size 432x288 with 1 Axes>"
      ]
     },
     "metadata": {
      "needs_background": "light"
     },
     "output_type": "display_data"
    }
   ],
   "source": [
    "legenda = 0\n",
    "for nome_output in list_output:\n",
    "    df = output()\n",
    "    df = normaliza()\n",
    "    mediana = bins()\n",
    "    novodf2 = dataframe()\n",
    "    if particula == 'f':\n",
    "        plt.plot(novodf2['z']/(10/3), novodf2['Dose'], color = cores[legenda], label = list_legend[legenda]) \n",
    "    if particula == 'e':\n",
    "        plt.plot(novodf2['z']/10, novodf2['Dose'], color = cores[legenda], label = list_legend[legenda])\n",
    "    legenda += 1\n",
    "    \n",
    "plt.title(titulo, fontsize=11)\n",
    "plt.xlabel('Profundidade (cm)', fontsize=11)\n",
    "plt.ylabel('PDP', fontsize=11)\n",
    "if particula == 'f':\n",
    "    plt.xlim(0,30)\n",
    "if particula == 'e':\n",
    "    plt.xlim(0,14)\n",
    "plt.ylim(0,1.1)\n",
    "plt.legend()\n",
    "plt.grid()\n",
    "plt.show()"
   ]
  },
  {
   "cell_type": "code",
   "execution_count": null,
   "id": "4257ad43",
   "metadata": {},
   "outputs": [],
   "source": []
  }
 ],
 "metadata": {
  "kernelspec": {
   "display_name": "Python 3 (ipykernel)",
   "language": "python",
   "name": "python3"
  },
  "language_info": {
   "codemirror_mode": {
    "name": "ipython",
    "version": 3
   },
   "file_extension": ".py",
   "mimetype": "text/x-python",
   "name": "python",
   "nbconvert_exporter": "python",
   "pygments_lexer": "ipython3",
   "version": "3.9.7"
  }
 },
 "nbformat": 4,
 "nbformat_minor": 5
}
